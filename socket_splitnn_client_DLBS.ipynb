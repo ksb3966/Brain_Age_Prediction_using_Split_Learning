{
 "cells": [
  {
   "cell_type": "markdown",
   "metadata": {},
   "source": [
    "# Split 3D-CNN Client Side\n",
    "This code is the server part of CIFAR10 split 2D-CNN model for **multi** client and a server."
   ]
  },
  {
   "cell_type": "code",
   "execution_count": 1,
   "metadata": {},
   "outputs": [
    {
     "name": "stdout",
     "output_type": "stream",
     "text": [
      "Requirement already satisfied: numba in /home/guest2/miniconda3/envs/split_env/lib/python3.9/site-packages (0.56.4)\r\n",
      "Requirement already satisfied: llvmlite<0.40,>=0.39.0dev0 in /home/guest2/miniconda3/envs/split_env/lib/python3.9/site-packages (from numba) (0.39.1)\r\n",
      "Requirement already satisfied: setuptools in /home/guest2/miniconda3/envs/split_env/lib/python3.9/site-packages (from numba) (66.0.0)\r\n",
      "Requirement already satisfied: numpy<1.24,>=1.18 in /home/guest2/miniconda3/envs/split_env/lib/python3.9/site-packages (from numba) (1.23.5)\r\n"
     ]
    }
   ],
   "source": [
    "!pip install numba\n",
    "from numba import cuda\n",
    "device = cuda.get_current_device()\n",
    "device.reset()"
   ]
  },
  {
   "cell_type": "code",
   "execution_count": 2,
   "metadata": {},
   "outputs": [],
   "source": [
    "batch_size = 5\n",
    "num_workers = 0"
   ]
  },
  {
   "cell_type": "code",
   "execution_count": 3,
   "metadata": {},
   "outputs": [],
   "source": [
    "users = 3 # number of clients\n",
    "epoch = 100  # default"
   ]
  },
  {
   "cell_type": "markdown",
   "metadata": {},
   "source": [
    "## Import required packages"
   ]
  },
  {
   "cell_type": "code",
   "execution_count": 4,
   "metadata": {},
   "outputs": [],
   "source": [
    "from __future__ import print_function, division\n",
    "import os\n",
    "import struct\n",
    "import socket\n",
    "import pickle\n",
    "\n",
    "import pandas as pd\n",
    "from skimage import io, transform\n",
    "import numpy as np\n",
    "import matplotlib.pyplot as plt\n",
    "import nibabel as nib\n",
    "\n",
    "import torch\n",
    "from torch.autograd import Variable\n",
    "import torch.nn as nn\n",
    "import torch.nn.functional as F\n",
    "import torch.optim as optim\n",
    "from torch.utils.data import Dataset, DataLoader\n",
    "from torchmetrics import PearsonCorrCoef\n",
    "\n",
    "import scipy.stats as stats\n",
    "import h5py\n",
    "import gc\n",
    "import time\n",
    "from tqdm import tqdm\n"
   ]
  },
  {
   "cell_type": "markdown",
   "metadata": {},
   "source": [
    "## SET CUDA"
   ]
  },
  {
   "cell_type": "code",
   "execution_count": 5,
   "metadata": {},
   "outputs": [],
   "source": [
    "device = \"cuda:0\" if torch.cuda.is_available() else \"cpu\"\n",
    "#device = \"cpu\"\n",
    "torch.manual_seed(777)\n",
    "if device ==\"cuda:0\":\n",
    "    torch.cuda.manual_seed_all(777)"
   ]
  },
  {
   "cell_type": "code",
   "execution_count": 6,
   "metadata": {},
   "outputs": [],
   "source": [
    "# client_order = int(input(\"client_order(start from 0): \"))\n",
    "client_order = 1"
   ]
  },
  {
   "cell_type": "markdown",
   "metadata": {},
   "source": [
    "## Data load"
   ]
  },
  {
   "cell_type": "code",
   "execution_count": 7,
   "metadata": {},
   "outputs": [],
   "source": [
    "class MRIDataset(Dataset):\n",
    "    def __init__(self, csv_file, root_dir, transform = None):\n",
    "        \"\"\"\n",
    "        Args:\n",
    "            csv_file (string): csv 파일의 경로\n",
    "            root_dir (string): 모든 이미지가 존재하는 디렉토리 경로\n",
    "            transform (callable, optional): 샘플에 적용될 Optional transform\n",
    "        \"\"\"\n",
    "        self.mri_annotation = pd.read_csv(csv_file)\n",
    "        self.root_dir = root_dir\n",
    "        self.transform = transform\n",
    "        \n",
    "    def __len__(self):\n",
    "        return len(self.mri_annotation)\n",
    "    \n",
    "    def __getitem__(self, idx):\n",
    "        if torch.is_tensor(idx):\n",
    "            idx = idx.tolist()\n",
    "        try:\n",
    "            img_name = os.path.join(self.root_dir,'wmDLBS_' + str(self.mri_annotation.iloc[idx, 0])+'_1_anat.nii')\n",
    "            mri_image = nib.load(img_name).get_fdata()\n",
    "            mri_age = self.mri_annotation.iloc[idx, 1]\n",
    "            sample = {'image': mri_image, 'mri_age': mri_age}\n",
    "        except:\n",
    "            return None\n",
    "            \n",
    "        return mri_image, mri_age\n",
    "\n",
    "    \n",
    "def collate_fn(batch):\n",
    "    batch = list(filter(lambda x: x is not None, batch))\n",
    "    return torch.utils.data.dataloader.default_collate(batch)\n",
    "\n",
    "def flatten(lst):\n",
    "    result = []\n",
    "    for item in lst:\n",
    "        if type(item) == list :\n",
    "            result += flatten(item)\n",
    "        else:\n",
    "            result += [item]\n",
    "    return result\n"
   ]
  },
  {
   "cell_type": "code",
   "execution_count": 8,
   "metadata": {},
   "outputs": [],
   "source": [
    "mri_train_dataset = MRIDataset(csv_file = './FLdata/3_DLBS/DLBS_Phenotype_train.csv', root_dir = './FLdata/3_DLBS/T1w/wm/')\n",
    "mri_test_dataset = MRIDataset(csv_file = './FLdata/3_DLBS/DLBS_Phenotype_test.csv', root_dir = './FLdata/3_DLBS/T1w/wm/')\n",
    "mri_val_dataset = MRIDataset(csv_file = './FLdata/3_DLBS/DLBS_Phenotype_validation.csv', root_dir = './FLdata/3_DLBS/T1w/wm/')"
   ]
  },
  {
   "cell_type": "code",
   "execution_count": 9,
   "metadata": {},
   "outputs": [],
   "source": [
    "train_loader = DataLoader(mri_train_dataset, batch_size=batch_size, shuffle=True, num_workers=num_workers, collate_fn=collate_fn, drop_last = True)\n",
    "test_loader = DataLoader(mri_test_dataset, batch_size=batch_size, shuffle=False, num_workers=num_workers, collate_fn=collate_fn, drop_last = True)\n",
    "val_loader = DataLoader(mri_val_dataset, batch_size=batch_size, shuffle=True, num_workers=num_workers, collate_fn=collate_fn, drop_last = True)"
   ]
  },
  {
   "cell_type": "code",
   "execution_count": 10,
   "metadata": {},
   "outputs": [
    {
     "name": "stdout",
     "output_type": "stream",
     "text": [
      "torch.Size([5, 113, 137, 113])\n",
      "torch.Size([5])\n"
     ]
    }
   ],
   "source": [
    "x_train, y_train = next(iter(train_loader))\n",
    "print(x_train.size())\n",
    "print(y_train.size())"
   ]
  },
  {
   "cell_type": "markdown",
   "metadata": {},
   "source": [
    "### Total number of batches"
   ]
  },
  {
   "cell_type": "code",
   "execution_count": 11,
   "metadata": {},
   "outputs": [],
   "source": [
    "class CNN3DModel(nn.Module):\n",
    "    def __init__(self):\n",
    "        super(CNN3DModel, self).__init__()\n",
    "        \n",
    "        \n",
    "        self.client_block = nn.Sequential(\n",
    "            # First Block\n",
    "            nn.Conv3d(1, 16, kernel_size=3, padding=1, stride=1),\n",
    "            nn.ReLU(),\n",
    "            \n",
    "            nn.Conv3d(16, 16, kernel_size=3, padding=1, stride=1),\n",
    "            nn.BatchNorm3d(16),\n",
    "            nn.ReLU(),\n",
    "\n",
    "            nn.MaxPool3d(2),\n",
    "\n",
    "            # Second Block\n",
    "            nn.Conv3d(16, 32, kernel_size=3, padding=1, stride=1),\n",
    "            nn.ReLU(),\n",
    "    \n",
    "            nn.Conv3d(32, 32, kernel_size=3, padding=1, stride=1),\n",
    "            nn.BatchNorm3d(32),\n",
    "            nn.ReLU(),\n",
    "\n",
    "            nn.MaxPool3d(2),\n",
    "\n",
    "            # Third Block\n",
    "            nn.Conv3d(32, 64, kernel_size=3, padding=1, stride=1),\n",
    "            nn.ReLU(),\n",
    "\n",
    "            nn.Conv3d(64, 64, kernel_size=3, padding=1, stride=1),\n",
    "            nn.BatchNorm3d(64),\n",
    "            nn.ReLU(),\n",
    "\n",
    "            nn.MaxPool3d(2),\n",
    "        )\n",
    "        \n",
    "        '''\n",
    "        self.server_block = nn.Sequential(\n",
    "            \n",
    "            # 4th Block\n",
    "            nn.Conv3d(64, 128, kernel_size=3, padding=1, stride=1),\n",
    "            nn.ReLU(),\n",
    "\n",
    "            nn.Conv3d(128, 128, kernel_size=3, padding=1, stride=1),\n",
    "            nn.BatchNorm3d(128),\n",
    "            nn.ReLU(),\n",
    "\n",
    "            nn.MaxPool3d(2),\n",
    "\n",
    "            # 5th Block\n",
    "            nn.Conv3d(128, 256, kernel_size=3, padding=1, stride=1),\n",
    "            nn.ReLU(),\n",
    "\n",
    "            nn.Conv3d(256, 256, kernel_size=3, padding=1, stride=1),\n",
    "            nn.BatchNorm3d(256),\n",
    "            nn.ReLU(),\n",
    "\n",
    "            nn.MaxPool3d(2),\n",
    "        )\n",
    "\n",
    "        self.regressor = nn.Sequential(\n",
    "            nn.Linear(9216, 1024),\n",
    "            nn.ReLU(),\n",
    "            nn.Linear(1024, 1),\n",
    "        )\n",
    "        '''\n",
    "\n",
    "    def forward(self, x):\n",
    "        x = self.client_block(x)\n",
    "        return x"
   ]
  },
  {
   "cell_type": "code",
   "execution_count": 12,
   "metadata": {},
   "outputs": [
    {
     "name": "stdout",
     "output_type": "stream",
     "text": [
      "CNN3DModel(\n",
      "  (client_block): Sequential(\n",
      "    (0): Conv3d(1, 16, kernel_size=(3, 3, 3), stride=(1, 1, 1), padding=(1, 1, 1))\n",
      "    (1): ReLU()\n",
      "    (2): Conv3d(16, 16, kernel_size=(3, 3, 3), stride=(1, 1, 1), padding=(1, 1, 1))\n",
      "    (3): BatchNorm3d(16, eps=1e-05, momentum=0.1, affine=True, track_running_stats=True)\n",
      "    (4): ReLU()\n",
      "    (5): MaxPool3d(kernel_size=2, stride=2, padding=0, dilation=1, ceil_mode=False)\n",
      "    (6): Conv3d(16, 32, kernel_size=(3, 3, 3), stride=(1, 1, 1), padding=(1, 1, 1))\n",
      "    (7): ReLU()\n",
      "    (8): Conv3d(32, 32, kernel_size=(3, 3, 3), stride=(1, 1, 1), padding=(1, 1, 1))\n",
      "    (9): BatchNorm3d(32, eps=1e-05, momentum=0.1, affine=True, track_running_stats=True)\n",
      "    (10): ReLU()\n",
      "    (11): MaxPool3d(kernel_size=2, stride=2, padding=0, dilation=1, ceil_mode=False)\n",
      "    (12): Conv3d(32, 64, kernel_size=(3, 3, 3), stride=(1, 1, 1), padding=(1, 1, 1))\n",
      "    (13): ReLU()\n",
      "    (14): Conv3d(64, 64, kernel_size=(3, 3, 3), stride=(1, 1, 1), padding=(1, 1, 1))\n",
      "    (15): BatchNorm3d(64, eps=1e-05, momentum=0.1, affine=True, track_running_stats=True)\n",
      "    (16): ReLU()\n",
      "    (17): MaxPool3d(kernel_size=2, stride=2, padding=0, dilation=1, ceil_mode=False)\n",
      "  )\n",
      ")\n"
     ]
    }
   ],
   "source": [
    "splitnn_client = CNN3DModel().to(device)\n",
    "print(splitnn_client)"
   ]
  },
  {
   "cell_type": "markdown",
   "metadata": {},
   "source": [
    "### Set other hyperparameters in the model\n",
    "Hyperparameters here should be same with the server side."
   ]
  },
  {
   "cell_type": "markdown",
   "metadata": {},
   "source": [
    "## Socket initialization"
   ]
  },
  {
   "cell_type": "markdown",
   "metadata": {},
   "source": [
    "### Required socket functions"
   ]
  },
  {
   "cell_type": "code",
   "execution_count": 13,
   "metadata": {},
   "outputs": [],
   "source": [
    "def send_msg(sock, msg):\n",
    "    # prefix each message with a 4-byte length in network byte order\n",
    "    msg = pickle.dumps(msg)\n",
    "    msg = struct.pack('>I', len(msg)) + msg\n",
    "    sock.sendall(msg)\n",
    "\n",
    "def recv_msg(sock):\n",
    "    # read message length and unpack it into an integer\n",
    "    raw_msglen = recvall(sock, 4)\n",
    "    if not raw_msglen:\n",
    "        return None\n",
    "    msglen = struct.unpack('>I', raw_msglen)[0]\n",
    "    # read the message data\n",
    "    msg =  recvall(sock, msglen)\n",
    "    msg = pickle.loads(msg)\n",
    "    return msg\n",
    "\n",
    "def recvall(sock, n):\n",
    "    # helper function to receive n bytes or return None if EOF is hit\n",
    "    data = b''\n",
    "    while len(data) < n:\n",
    "        packet = sock.recv(n - len(data))\n",
    "        if not packet:\n",
    "            return None\n",
    "        data += packet\n",
    "    return data\n"
   ]
  },
  {
   "cell_type": "markdown",
   "metadata": {},
   "source": [
    "### Set host address and port number"
   ]
  },
  {
   "cell_type": "code",
   "execution_count": 14,
   "metadata": {},
   "outputs": [],
   "source": [
    "#host = input(\"IP address: \")\n",
    "host = '127.0.0.1'\n",
    "port = 10080"
   ]
  },
  {
   "cell_type": "markdown",
   "metadata": {},
   "source": [
    "## SET TIMER"
   ]
  },
  {
   "cell_type": "code",
   "execution_count": 15,
   "metadata": {},
   "outputs": [
    {
     "name": "stdout",
     "output_type": "stream",
     "text": [
      "timmer 7start!\n"
     ]
    }
   ],
   "source": [
    "start_time = time.time()    # store start time\n",
    "print(\"timmer 7start!\")"
   ]
  },
  {
   "cell_type": "markdown",
   "metadata": {},
   "source": [
    "### Open the client socket"
   ]
  },
  {
   "cell_type": "code",
   "execution_count": 16,
   "metadata": {},
   "outputs": [],
   "source": [
    "s = socket.socket()\n",
    "s.connect((host, port))"
   ]
  },
  {
   "cell_type": "code",
   "execution_count": 17,
   "metadata": {},
   "outputs": [],
   "source": [
    "epoch = recv_msg(s)   # get epoch\n",
    "total_batch = len(train_loader)\n",
    "msg = total_batch\n",
    "send_msg(s, msg)   # send total_batch of train dataset"
   ]
  },
  {
   "cell_type": "code",
   "execution_count": 18,
   "metadata": {},
   "outputs": [],
   "source": [
    "criterion = nn.L1Loss().to(device)\n",
    "lr = 0.01\n",
    "optimizer = optim.Adam(splitnn_client.parameters(), lr=lr)"
   ]
  },
  {
   "cell_type": "markdown",
   "metadata": {},
   "source": [
    "## Real training process"
   ]
  },
  {
   "cell_type": "code",
   "execution_count": null,
   "metadata": {},
   "outputs": [
    {
     "name": "stderr",
     "output_type": "stream",
     "text": [
      "Epoch 1:  98%|█████████████████████████████████▏| 43/44 [00:07<00:00,  5.42it/s]\n",
      "Epoch 2:  98%|█████████████████████████████████▏| 43/44 [00:06<00:00,  6.64it/s]\n",
      "Epoch 3:  98%|█████████████████████████████████▏| 43/44 [00:06<00:00,  6.64it/s]\n",
      "Epoch 4:  98%|█████████████████████████████████▏| 43/44 [00:06<00:00,  6.64it/s]\n",
      "Epoch 5:  98%|█████████████████████████████████▏| 43/44 [00:06<00:00,  6.65it/s]\n",
      "Epoch 6:  98%|█████████████████████████████████▏| 43/44 [00:06<00:00,  6.63it/s]\n",
      "Epoch 7:  98%|█████████████████████████████████▏| 43/44 [00:06<00:00,  6.65it/s]\n",
      "Epoch 8:  98%|█████████████████████████████████▏| 43/44 [00:06<00:00,  6.64it/s]\n",
      "Epoch 9:  98%|█████████████████████████████████▏| 43/44 [00:06<00:00,  6.62it/s]\n",
      "Epoch 10:  98%|████████████████████████████████▎| 43/44 [00:06<00:00,  6.62it/s]\n",
      "Epoch 11:  98%|████████████████████████████████▎| 43/44 [00:06<00:00,  6.63it/s]\n",
      "Epoch 12:  98%|████████████████████████████████▎| 43/44 [00:06<00:00,  6.61it/s]\n",
      "Epoch 13:  98%|████████████████████████████████▎| 43/44 [00:06<00:00,  6.62it/s]\n",
      "Epoch 14:  98%|████████████████████████████████▎| 43/44 [00:06<00:00,  6.61it/s]\n",
      "Epoch 15:  98%|████████████████████████████████▎| 43/44 [00:06<00:00,  6.60it/s]\n",
      "Epoch 16:  98%|████████████████████████████████▎| 43/44 [00:06<00:00,  6.63it/s]\n",
      "Epoch 17:  98%|████████████████████████████████▎| 43/44 [00:06<00:00,  6.64it/s]\n",
      "Epoch 18:  98%|████████████████████████████████▎| 43/44 [00:06<00:00,  6.65it/s]\n",
      "Epoch 19:  98%|████████████████████████████████▎| 43/44 [00:06<00:00,  6.57it/s]\n",
      "Epoch 20:  98%|████████████████████████████████▎| 43/44 [00:06<00:00,  6.63it/s]\n",
      "Epoch 21:  98%|████████████████████████████████▎| 43/44 [00:06<00:00,  6.64it/s]\n",
      "Epoch 22:  98%|████████████████████████████████▎| 43/44 [00:06<00:00,  6.63it/s]\n",
      "Epoch 23:  98%|████████████████████████████████▎| 43/44 [00:06<00:00,  6.65it/s]\n",
      "Epoch 24:  98%|████████████████████████████████▎| 43/44 [00:06<00:00,  6.65it/s]\n",
      "Epoch 25:  98%|████████████████████████████████▎| 43/44 [00:06<00:00,  6.63it/s]\n",
      "Epoch 26:  98%|████████████████████████████████▎| 43/44 [00:06<00:00,  6.63it/s]\n",
      "Epoch 27:  98%|████████████████████████████████▎| 43/44 [00:06<00:00,  6.63it/s]\n",
      "Epoch 28:  98%|████████████████████████████████▎| 43/44 [00:06<00:00,  6.64it/s]\n",
      "Epoch 29:  98%|████████████████████████████████▎| 43/44 [00:06<00:00,  6.64it/s]\n",
      "Epoch 30:  98%|████████████████████████████████▎| 43/44 [00:06<00:00,  6.67it/s]\n",
      "Epoch 31:  98%|████████████████████████████████▎| 43/44 [00:06<00:00,  6.65it/s]\n",
      "Epoch 32:  98%|████████████████████████████████▎| 43/44 [00:06<00:00,  6.64it/s]\n",
      "Epoch 33:  98%|████████████████████████████████▎| 43/44 [00:06<00:00,  6.63it/s]\n",
      "Epoch 34:  98%|████████████████████████████████▎| 43/44 [00:06<00:00,  6.61it/s]\n",
      "Epoch 35:  98%|████████████████████████████████▎| 43/44 [00:06<00:00,  6.62it/s]\n",
      "Epoch 36:  98%|████████████████████████████████▎| 43/44 [00:06<00:00,  6.64it/s]\n",
      "Epoch 37:  98%|████████████████████████████████▎| 43/44 [00:06<00:00,  6.64it/s]\n",
      "Epoch 38:  98%|████████████████████████████████▎| 43/44 [00:06<00:00,  6.65it/s]\n",
      "Epoch 39:  98%|████████████████████████████████▎| 43/44 [00:06<00:00,  6.63it/s]\n",
      "Epoch 40:  98%|████████████████████████████████▎| 43/44 [00:06<00:00,  6.61it/s]\n",
      "Epoch 41:  98%|████████████████████████████████▎| 43/44 [00:06<00:00,  6.59it/s]\n",
      "Epoch 42:  98%|████████████████████████████████▎| 43/44 [00:06<00:00,  6.62it/s]\n",
      "Epoch 43:  98%|████████████████████████████████▎| 43/44 [00:06<00:00,  6.61it/s]\n",
      "Epoch 44:  98%|████████████████████████████████▎| 43/44 [00:06<00:00,  6.64it/s]\n",
      "Epoch 45:  98%|████████████████████████████████▎| 43/44 [00:06<00:00,  6.64it/s]\n",
      "Epoch 46:  98%|████████████████████████████████▎| 43/44 [00:06<00:00,  6.64it/s]\n",
      "Epoch 47:  98%|████████████████████████████████▎| 43/44 [00:06<00:00,  6.61it/s]\n",
      "Epoch 48:  98%|████████████████████████████████▎| 43/44 [00:06<00:00,  6.61it/s]\n",
      "Epoch 49:  98%|████████████████████████████████▎| 43/44 [00:06<00:00,  6.64it/s]\n",
      "Epoch 50:  98%|████████████████████████████████▎| 43/44 [00:06<00:00,  6.64it/s]\n",
      "Epoch 51:  98%|████████████████████████████████▎| 43/44 [00:06<00:00,  6.63it/s]\n",
      "Epoch 52:  98%|████████████████████████████████▎| 43/44 [00:06<00:00,  6.62it/s]\n",
      "Epoch 53:  98%|████████████████████████████████▎| 43/44 [00:06<00:00,  6.64it/s]\n",
      "Epoch 54:  98%|████████████████████████████████▎| 43/44 [00:06<00:00,  6.64it/s]\n",
      "Epoch 55:  98%|████████████████████████████████▎| 43/44 [00:06<00:00,  6.63it/s]\n",
      "Epoch 56:  98%|████████████████████████████████▎| 43/44 [00:06<00:00,  6.65it/s]\n",
      "Epoch 57:  98%|████████████████████████████████▎| 43/44 [00:06<00:00,  6.64it/s]\n",
      "Epoch 58:  98%|████████████████████████████████▎| 43/44 [00:06<00:00,  6.61it/s]\n",
      "Epoch 59:  98%|████████████████████████████████▎| 43/44 [00:06<00:00,  6.68it/s]\n",
      "Epoch 60:  98%|████████████████████████████████▎| 43/44 [00:06<00:00,  6.64it/s]\n",
      "Epoch 61:  98%|████████████████████████████████▎| 43/44 [00:06<00:00,  6.62it/s]\n",
      "Epoch 62:  98%|████████████████████████████████▎| 43/44 [00:06<00:00,  6.64it/s]\n",
      "Epoch 63:  98%|████████████████████████████████▎| 43/44 [00:06<00:00,  6.62it/s]\n",
      "Epoch 64:  98%|████████████████████████████████▎| 43/44 [00:06<00:00,  6.65it/s]\n",
      "Epoch 65:  98%|████████████████████████████████▎| 43/44 [00:06<00:00,  6.61it/s]\n",
      "Epoch 66:  98%|████████████████████████████████▎| 43/44 [00:06<00:00,  6.64it/s]\n",
      "Epoch 67:  98%|████████████████████████████████▎| 43/44 [00:06<00:00,  6.59it/s]\n",
      "Epoch 68:  98%|████████████████████████████████▎| 43/44 [00:06<00:00,  6.59it/s]\n",
      "Epoch 69:  98%|████████████████████████████████▎| 43/44 [00:06<00:00,  6.59it/s]\n",
      "Epoch 70:  98%|████████████████████████████████▎| 43/44 [00:06<00:00,  6.58it/s]\n",
      "Epoch 71:  98%|████████████████████████████████▎| 43/44 [00:06<00:00,  6.57it/s]\n",
      "Epoch 72:  98%|████████████████████████████████▎| 43/44 [00:06<00:00,  6.55it/s]\n",
      "Epoch 73:  98%|████████████████████████████████▎| 43/44 [00:06<00:00,  6.45it/s]\n",
      "Epoch 74:  98%|████████████████████████████████▎| 43/44 [00:06<00:00,  6.60it/s]\n",
      "Epoch 75:  98%|████████████████████████████████▎| 43/44 [00:06<00:00,  6.61it/s]\n",
      "Epoch 76:  98%|████████████████████████████████▎| 43/44 [00:06<00:00,  6.59it/s]\n",
      "Epoch 77:  98%|████████████████████████████████▎| 43/44 [00:06<00:00,  6.58it/s]\n",
      "Epoch 78:  98%|████████████████████████████████▎| 43/44 [00:06<00:00,  6.60it/s]\n",
      "Epoch 79:  98%|████████████████████████████████▎| 43/44 [00:06<00:00,  6.59it/s]\n",
      "Epoch 80:  98%|████████████████████████████████▎| 43/44 [00:06<00:00,  6.62it/s]\n",
      "Epoch 81:  98%|████████████████████████████████▎| 43/44 [00:06<00:00,  6.61it/s]\n",
      "Epoch 82:  98%|████████████████████████████████▎| 43/44 [00:06<00:00,  6.57it/s]\n",
      "Epoch 83:  98%|████████████████████████████████▎| 43/44 [00:06<00:00,  6.59it/s]\n",
      "Epoch 84:  98%|████████████████████████████████▎| 43/44 [00:06<00:00,  6.63it/s]\n",
      "Epoch 85:  98%|████████████████████████████████▎| 43/44 [00:06<00:00,  6.61it/s]\n",
      "Epoch 86:  98%|████████████████████████████████▎| 43/44 [00:06<00:00,  6.61it/s]\n",
      "Epoch 87:  98%|████████████████████████████████▎| 43/44 [00:06<00:00,  6.64it/s]\n",
      "Epoch 88:  98%|████████████████████████████████▎| 43/44 [00:06<00:00,  6.64it/s]\n",
      "Epoch 89:  98%|████████████████████████████████▎| 43/44 [00:06<00:00,  6.61it/s]\n",
      "Epoch 90:  98%|████████████████████████████████▎| 43/44 [00:06<00:00,  6.61it/s]\n",
      "Epoch 91:  98%|████████████████████████████████▎| 43/44 [00:06<00:00,  6.62it/s]\n",
      "Epoch 92:  98%|████████████████████████████████▎| 43/44 [00:06<00:00,  6.64it/s]\n",
      "Epoch 93:  98%|████████████████████████████████▎| 43/44 [00:06<00:00,  6.62it/s]\n",
      "Epoch 94:  98%|████████████████████████████████▎| 43/44 [00:06<00:00,  6.64it/s]\n",
      "Epoch 95:  98%|████████████████████████████████▎| 43/44 [00:06<00:00,  6.64it/s]\n",
      "Epoch 96:  98%|████████████████████████████████▎| 43/44 [00:06<00:00,  6.65it/s]\n",
      "Epoch 97:  98%|████████████████████████████████▎| 43/44 [00:06<00:00,  6.66it/s]\n",
      "Epoch 98:  98%|████████████████████████████████▎| 43/44 [00:06<00:00,  6.65it/s]\n",
      "Epoch 99:  98%|████████████████████████████████▎| 43/44 [00:06<00:00,  6.65it/s]\n",
      "Epoch 100:  98%|███████████████████████████████▎| 43/44 [00:06<00:00,  6.64it/s]\n",
      "Epoch 101:  98%|███████████████████████████████▎| 43/44 [00:06<00:00,  6.64it/s]\n",
      "Epoch 102:  98%|███████████████████████████████▎| 43/44 [00:06<00:00,  6.66it/s]\n",
      "Epoch 103:  98%|███████████████████████████████▎| 43/44 [00:06<00:00,  6.64it/s]\n",
      "Epoch 104:  98%|███████████████████████████████▎| 43/44 [00:06<00:00,  6.61it/s]\n",
      "Epoch 105:  98%|███████████████████████████████▎| 43/44 [00:06<00:00,  6.63it/s]\n",
      "Epoch 106:  98%|███████████████████████████████▎| 43/44 [00:06<00:00,  6.68it/s]\n",
      "Epoch 107:  98%|███████████████████████████████▎| 43/44 [00:06<00:00,  6.61it/s]\n",
      "Epoch 108:  98%|███████████████████████████████▎| 43/44 [00:06<00:00,  6.66it/s]\n",
      "Epoch 109:  98%|███████████████████████████████▎| 43/44 [00:06<00:00,  6.62it/s]\n",
      "Epoch 110:  98%|███████████████████████████████▎| 43/44 [00:06<00:00,  6.63it/s]\n",
      "Epoch 111:  98%|███████████████████████████████▎| 43/44 [00:06<00:00,  6.59it/s]\n",
      "Epoch 112:  98%|███████████████████████████████▎| 43/44 [00:06<00:00,  6.61it/s]\n",
      "Epoch 113:  98%|███████████████████████████████▎| 43/44 [00:06<00:00,  6.68it/s]\n",
      "Epoch 114:  98%|███████████████████████████████▎| 43/44 [00:06<00:00,  6.63it/s]\n",
      "Epoch 115:  98%|███████████████████████████████▎| 43/44 [00:06<00:00,  6.64it/s]\n",
      "Epoch 116:  98%|███████████████████████████████▎| 43/44 [00:06<00:00,  6.65it/s]\n",
      "Epoch 117:  98%|███████████████████████████████▎| 43/44 [00:06<00:00,  6.63it/s]\n",
      "Epoch 118:  98%|███████████████████████████████▎| 43/44 [00:06<00:00,  6.65it/s]\n",
      "Epoch 119:  98%|███████████████████████████████▎| 43/44 [00:06<00:00,  6.68it/s]\n",
      "Epoch 120:  98%|███████████████████████████████▎| 43/44 [00:06<00:00,  6.64it/s]\n",
      "Epoch 121:  98%|███████████████████████████████▎| 43/44 [00:06<00:00,  6.63it/s]\n",
      "Epoch 122:  98%|███████████████████████████████▎| 43/44 [00:06<00:00,  6.62it/s]\n",
      "Epoch 123:  98%|███████████████████████████████▎| 43/44 [00:06<00:00,  6.64it/s]\n",
      "Epoch 124:  98%|███████████████████████████████▎| 43/44 [00:06<00:00,  6.63it/s]\n",
      "Epoch 125:  98%|███████████████████████████████▎| 43/44 [00:06<00:00,  6.64it/s]\n",
      "Epoch 126:  98%|███████████████████████████████▎| 43/44 [00:06<00:00,  6.64it/s]\n",
      "Epoch 127:  98%|███████████████████████████████▎| 43/44 [00:06<00:00,  6.59it/s]\n",
      "Epoch 128:  98%|███████████████████████████████▎| 43/44 [00:06<00:00,  6.61it/s]\n",
      "Epoch 129:  98%|███████████████████████████████▎| 43/44 [00:06<00:00,  6.62it/s]\n",
      "Epoch 130:  98%|███████████████████████████████▎| 43/44 [00:06<00:00,  6.63it/s]\n",
      "Epoch 131:  98%|███████████████████████████████▎| 43/44 [00:06<00:00,  6.64it/s]\n",
      "Epoch 132:  98%|███████████████████████████████▎| 43/44 [00:06<00:00,  6.62it/s]\n",
      "Epoch 133:  98%|███████████████████████████████▎| 43/44 [00:06<00:00,  6.64it/s]\n",
      "Epoch 134:  98%|███████████████████████████████▎| 43/44 [00:06<00:00,  6.61it/s]\n",
      "Epoch 135:  98%|███████████████████████████████▎| 43/44 [00:06<00:00,  6.63it/s]\n",
      "Epoch 136:  98%|███████████████████████████████▎| 43/44 [00:06<00:00,  6.63it/s]\n",
      "Epoch 137:  98%|███████████████████████████████▎| 43/44 [00:06<00:00,  6.60it/s]\n",
      "Epoch 138:  98%|███████████████████████████████▎| 43/44 [00:06<00:00,  6.58it/s]\n",
      "Epoch 139:  98%|███████████████████████████████▎| 43/44 [00:06<00:00,  6.60it/s]\n",
      "Epoch 140:  98%|███████████████████████████████▎| 43/44 [00:06<00:00,  6.60it/s]\n",
      "Epoch 141:  98%|███████████████████████████████▎| 43/44 [00:06<00:00,  6.59it/s]\n",
      "Epoch 142:  98%|███████████████████████████████▎| 43/44 [00:06<00:00,  6.62it/s]\n",
      "Epoch 143:  98%|███████████████████████████████▎| 43/44 [00:06<00:00,  6.60it/s]\n",
      "Epoch 144:  98%|███████████████████████████████▎| 43/44 [00:06<00:00,  6.56it/s]\n",
      "Epoch 145:  98%|███████████████████████████████▎| 43/44 [00:06<00:00,  6.59it/s]\n",
      "Epoch 146:  98%|███████████████████████████████▎| 43/44 [00:06<00:00,  6.60it/s]\n",
      "Epoch 147:  98%|███████████████████████████████▎| 43/44 [00:06<00:00,  6.57it/s]\n",
      "Epoch 148:  98%|███████████████████████████████▎| 43/44 [00:06<00:00,  6.58it/s]\n",
      "Epoch 149:  98%|███████████████████████████████▎| 43/44 [00:06<00:00,  6.59it/s]\n",
      "Epoch 150:  98%|███████████████████████████████▎| 43/44 [00:06<00:00,  6.63it/s]\n",
      "Epoch 151:  98%|███████████████████████████████▎| 43/44 [00:06<00:00,  6.65it/s]\n",
      "Epoch 152:  98%|███████████████████████████████▎| 43/44 [00:06<00:00,  6.62it/s]\n",
      "Epoch 153:  98%|███████████████████████████████▎| 43/44 [00:06<00:00,  6.64it/s]\n",
      "Epoch 154:  98%|███████████████████████████████▎| 43/44 [00:06<00:00,  6.63it/s]\n",
      "Epoch 155:  98%|███████████████████████████████▎| 43/44 [00:06<00:00,  6.65it/s]\n",
      "Epoch 156:  98%|███████████████████████████████▎| 43/44 [00:06<00:00,  6.62it/s]\n",
      "Epoch 157:  98%|███████████████████████████████▎| 43/44 [00:06<00:00,  6.63it/s]\n",
      "Epoch 158:  98%|███████████████████████████████▎| 43/44 [00:06<00:00,  6.63it/s]\n",
      "Epoch 159:  98%|███████████████████████████████▎| 43/44 [00:06<00:00,  6.64it/s]\n",
      "Epoch 160:  98%|███████████████████████████████▎| 43/44 [00:06<00:00,  6.66it/s]\n",
      "Epoch 161:  98%|███████████████████████████████▎| 43/44 [00:06<00:00,  6.62it/s]\n",
      "Epoch 162:  98%|███████████████████████████████▎| 43/44 [00:06<00:00,  6.63it/s]\n",
      "Epoch 163:  98%|███████████████████████████████▎| 43/44 [00:06<00:00,  6.65it/s]\n",
      "Epoch 164:  98%|███████████████████████████████▎| 43/44 [00:06<00:00,  6.64it/s]\n",
      "Epoch 165:  98%|███████████████████████████████▎| 43/44 [00:06<00:00,  6.63it/s]\n",
      "Epoch 166:  98%|███████████████████████████████▎| 43/44 [00:06<00:00,  6.63it/s]\n",
      "Epoch 167:  98%|███████████████████████████████▎| 43/44 [00:06<00:00,  6.63it/s]\n",
      "Epoch 168:  98%|███████████████████████████████▎| 43/44 [00:06<00:00,  6.66it/s]\n",
      "Epoch 169:  98%|███████████████████████████████▎| 43/44 [00:06<00:00,  6.65it/s]\n",
      "Epoch 170:  98%|███████████████████████████████▎| 43/44 [00:06<00:00,  6.63it/s]\n",
      "Epoch 171:  98%|███████████████████████████████▎| 43/44 [00:06<00:00,  6.65it/s]\n",
      "Epoch 172:  98%|███████████████████████████████▎| 43/44 [00:06<00:00,  6.64it/s]\n",
      "Epoch 173:  98%|███████████████████████████████▎| 43/44 [00:06<00:00,  6.61it/s]\n",
      "Epoch 174:  98%|███████████████████████████████▎| 43/44 [00:06<00:00,  6.58it/s]\n",
      "Epoch 175:  98%|███████████████████████████████▎| 43/44 [00:06<00:00,  6.59it/s]\n",
      "Epoch 176:  98%|███████████████████████████████▎| 43/44 [00:06<00:00,  6.60it/s]\n",
      "Epoch 177:  98%|███████████████████████████████▎| 43/44 [00:06<00:00,  6.62it/s]\n",
      "Epoch 178:  98%|███████████████████████████████▎| 43/44 [00:06<00:00,  6.57it/s]\n",
      "Epoch 179:  98%|███████████████████████████████▎| 43/44 [00:06<00:00,  6.58it/s]\n",
      "Epoch 180:  98%|███████████████████████████████▎| 43/44 [00:06<00:00,  6.59it/s]\n",
      "Epoch 181:  98%|███████████████████████████████▎| 43/44 [00:06<00:00,  6.56it/s]\n",
      "Epoch 182:  98%|███████████████████████████████▎| 43/44 [00:06<00:00,  6.59it/s]\n",
      "Epoch 183:  98%|███████████████████████████████▎| 43/44 [00:06<00:00,  6.58it/s]\n",
      "Epoch 184:  98%|███████████████████████████████▎| 43/44 [00:06<00:00,  6.57it/s]\n",
      "Epoch 185:  98%|███████████████████████████████▎| 43/44 [00:06<00:00,  6.64it/s]\n",
      "Epoch 186:  98%|███████████████████████████████▎| 43/44 [00:06<00:00,  6.64it/s]\n",
      "Epoch 187:  98%|███████████████████████████████▎| 43/44 [00:06<00:00,  6.63it/s]\n",
      "Epoch 188:  98%|███████████████████████████████▎| 43/44 [00:06<00:00,  6.63it/s]\n",
      "Epoch 189:  98%|███████████████████████████████▎| 43/44 [00:06<00:00,  6.65it/s]\n",
      "Epoch 190:  98%|███████████████████████████████▎| 43/44 [00:06<00:00,  6.66it/s]\n",
      "Epoch 191:  98%|███████████████████████████████▎| 43/44 [00:06<00:00,  6.65it/s]\n",
      "Epoch 192:  98%|███████████████████████████████▎| 43/44 [00:06<00:00,  6.66it/s]\n",
      "Epoch 193:  98%|███████████████████████████████▎| 43/44 [00:06<00:00,  6.64it/s]\n",
      "Epoch 194:  98%|███████████████████████████████▎| 43/44 [00:06<00:00,  6.64it/s]\n",
      "Epoch 195:  98%|███████████████████████████████▎| 43/44 [00:06<00:00,  6.67it/s]\n",
      "Epoch 196:  98%|███████████████████████████████▎| 43/44 [00:06<00:00,  6.63it/s]\n",
      "Epoch 197:  98%|███████████████████████████████▎| 43/44 [00:06<00:00,  6.65it/s]\n",
      "Epoch 198:  98%|███████████████████████████████▎| 43/44 [00:06<00:00,  6.63it/s]\n",
      "Epoch 199:  98%|███████████████████████████████▎| 43/44 [00:06<00:00,  6.63it/s]\n",
      "Epoch 200:  98%|███████████████████████████████▎| 43/44 [00:06<00:00,  6.63it/s]\n",
      "Epoch 201:  98%|███████████████████████████████▎| 43/44 [00:06<00:00,  6.61it/s]\n",
      "Epoch 202:  98%|███████████████████████████████▎| 43/44 [00:06<00:00,  6.61it/s]\n"
     ]
    },
    {
     "name": "stderr",
     "output_type": "stream",
     "text": [
      "Epoch 203:  98%|███████████████████████████████▎| 43/44 [00:06<00:00,  6.62it/s]\n",
      "Epoch 204:  98%|███████████████████████████████▎| 43/44 [00:06<00:00,  6.62it/s]\n",
      "Epoch 205:  98%|███████████████████████████████▎| 43/44 [00:06<00:00,  6.63it/s]\n",
      "Epoch 206:  98%|███████████████████████████████▎| 43/44 [00:06<00:00,  6.62it/s]\n",
      "Epoch 207:  98%|███████████████████████████████▎| 43/44 [00:06<00:00,  6.63it/s]\n",
      "Epoch 208:  98%|███████████████████████████████▎| 43/44 [00:06<00:00,  6.64it/s]\n",
      "Epoch 209:  98%|███████████████████████████████▎| 43/44 [00:06<00:00,  6.64it/s]\n",
      "Epoch 210:  98%|███████████████████████████████▎| 43/44 [00:06<00:00,  6.64it/s]\n",
      "Epoch 211:  98%|███████████████████████████████▎| 43/44 [00:06<00:00,  6.64it/s]\n",
      "Epoch 212:  98%|███████████████████████████████▎| 43/44 [00:06<00:00,  6.65it/s]\n",
      "Epoch 213:  98%|███████████████████████████████▎| 43/44 [00:06<00:00,  6.65it/s]\n",
      "Epoch 214:  98%|███████████████████████████████▎| 43/44 [00:06<00:00,  6.62it/s]\n",
      "Epoch 215:  98%|███████████████████████████████▎| 43/44 [00:06<00:00,  6.62it/s]\n",
      "Epoch 216:  98%|███████████████████████████████▎| 43/44 [00:06<00:00,  6.67it/s]\n",
      "Epoch 217:  98%|███████████████████████████████▎| 43/44 [00:06<00:00,  6.64it/s]\n",
      "Epoch 218:  98%|███████████████████████████████▎| 43/44 [00:06<00:00,  6.64it/s]\n",
      "Epoch 219:  98%|███████████████████████████████▎| 43/44 [00:06<00:00,  6.65it/s]\n",
      "Epoch 220:  98%|███████████████████████████████▎| 43/44 [00:06<00:00,  6.63it/s]\n",
      "Epoch 221:  98%|███████████████████████████████▎| 43/44 [00:06<00:00,  6.63it/s]\n",
      "Epoch 222:  98%|███████████████████████████████▎| 43/44 [00:06<00:00,  6.62it/s]\n",
      "Epoch 223:  98%|███████████████████████████████▎| 43/44 [00:06<00:00,  6.60it/s]\n",
      "Epoch 224:  98%|███████████████████████████████▎| 43/44 [00:06<00:00,  6.63it/s]\n",
      "Epoch 225:  98%|███████████████████████████████▎| 43/44 [00:06<00:00,  6.63it/s]\n",
      "Epoch 226:  98%|███████████████████████████████▎| 43/44 [00:06<00:00,  6.62it/s]\n",
      "Epoch 227:  98%|███████████████████████████████▎| 43/44 [00:06<00:00,  6.65it/s]\n",
      "Epoch 228:  98%|███████████████████████████████▎| 43/44 [00:06<00:00,  6.66it/s]\n",
      "Epoch 229:  98%|███████████████████████████████▎| 43/44 [00:06<00:00,  6.65it/s]\n",
      "Epoch 230:  98%|███████████████████████████████▎| 43/44 [00:06<00:00,  6.64it/s]\n",
      "Epoch 231:  98%|███████████████████████████████▎| 43/44 [00:06<00:00,  6.63it/s]\n",
      "Epoch 232:  98%|███████████████████████████████▎| 43/44 [00:06<00:00,  6.63it/s]\n",
      "Epoch 233:  98%|███████████████████████████████▎| 43/44 [00:06<00:00,  6.62it/s]\n",
      "Epoch 234:  98%|███████████████████████████████▎| 43/44 [00:06<00:00,  6.63it/s]\n",
      "Epoch 235:  98%|███████████████████████████████▎| 43/44 [00:06<00:00,  6.66it/s]\n",
      "Epoch 236:  98%|███████████████████████████████▎| 43/44 [00:06<00:00,  6.64it/s]\n"
     ]
    }
   ],
   "source": [
    "for e in range(epoch):\n",
    "    client_weights = recv_msg(s)\n",
    "    splitnn_client.load_state_dict(client_weights)\n",
    "    splitnn_client.eval()\n",
    "    i = 1\n",
    "    \n",
    "    for images, labels in tqdm(train_loader, desc='Epoch '+str(e+1)):\n",
    "        train = images.view(images.shape[0], 1, images.shape[1], images.shape[2],images.shape[3]).to(device, dtype = torch.float32)\n",
    "        label = labels.to(device)\n",
    "        # Clear gradients\n",
    "        optimizer.zero_grad()\n",
    "        # Forward propagation\n",
    "        outputs = splitnn_client(train)\n",
    "        client_output = outputs.clone().detach().requires_grad_(True)\n",
    "        msg = {\n",
    "            'client_output': client_output,\n",
    "            'label': label\n",
    "        }\n",
    "        send_msg(s, msg)\n",
    "        client_grad = recv_msg(s)\n",
    "        outputs.backward(client_grad)\n",
    "        optimizer.step()\n",
    "        if (i == total_batch):\n",
    "            break\n",
    "        i = i+1\n",
    "        del outputs\n",
    "        del client_output\n",
    "    send_msg(s, splitnn_client.state_dict())"
   ]
  },
  {
   "cell_type": "code",
   "execution_count": null,
   "metadata": {},
   "outputs": [],
   "source": [
    "end_time = time.time()  #store end time\n",
    "print(\"WorkingTime of \",device ,\": {} sec\".format(end_time - start_time))"
   ]
  },
  {
   "cell_type": "code",
   "execution_count": null,
   "metadata": {},
   "outputs": [],
   "source": []
  }
 ],
 "metadata": {
  "file_extension": ".py",
  "kernelspec": {
   "display_name": "Python 3 (ipykernel)",
   "language": "python",
   "name": "python3"
  },
  "language_info": {
   "codemirror_mode": {
    "name": "ipython",
    "version": 3
   },
   "file_extension": ".py",
   "mimetype": "text/x-python",
   "name": "python",
   "nbconvert_exporter": "python",
   "pygments_lexer": "ipython3",
   "version": "3.9.16"
  },
  "mimetype": "text/x-python",
  "name": "python",
  "npconvert_exporter": "python",
  "pygments_lexer": "ipython3",
  "version": 3
 },
 "nbformat": 4,
 "nbformat_minor": 2
}
